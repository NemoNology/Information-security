{
 "cells": [
  {
   "cell_type": "markdown",
   "metadata": {},
   "source": [
    "# Блочное шифрование - SP-сеть"
   ]
  },
  {
   "cell_type": "markdown",
   "metadata": {},
   "source": [
    "## Init"
   ]
  },
  {
   "cell_type": "markdown",
   "metadata": {},
   "source": [
    "### Imports"
   ]
  },
  {
   "cell_type": "code",
   "execution_count": null,
   "metadata": {},
   "outputs": [],
   "source": [
    "from random import shuffle"
   ]
  },
  {
   "cell_type": "markdown",
   "metadata": {},
   "source": [
    "### Implementation"
   ]
  },
  {
   "cell_type": "markdown",
   "metadata": {},
   "source": [
    "#### Def-s"
   ]
  },
  {
   "cell_type": "code",
   "execution_count": null,
   "metadata": {},
   "outputs": [],
   "source": [
    "def charToCharBits(c: str, bytesAmount : int = 2) -> str:\n",
    "    if len(c) > 1: \n",
    "        raise OverflowError(c)\n",
    "    return f\"{ord(c):b}\".rjust(8 * bytesAmount, \"0\")\n",
    "\n",
    "\n",
    "def strToStrBits(s: str, bytesAmount : int = 2, separator: str = \"\") -> str:\n",
    "    return separator.join(charToCharBits(c, bytesAmount) for c in s)\n",
    "\n",
    "\n",
    "def charBitsToChar(c: str, bytesAmount: int = 2) -> str:\n",
    "    if len(c) > bytesAmount * 8: \n",
    "        raise OverflowError(c)\n",
    "    return chr(int(c, 2))\n",
    "\n",
    "\n",
    "def strBitsToStr(s: str, bytesAmount: int = 2) -> str:\n",
    "    res = \"\"\n",
    "    step = bytesAmount * 8\n",
    "    for i in range(0, int(len(s) / step)):\n",
    "        res += charBitsToChar(s[i * step : (i + 1) * step])\n",
    "    return res\n"
   ]
  },
  {
   "cell_type": "markdown",
   "metadata": {},
   "source": [
    "#### Class"
   ]
  },
  {
   "cell_type": "code",
   "execution_count": null,
   "metadata": {},
   "outputs": [],
   "source": [
    "class SPNetwork:\n",
    "    \"\"\"Custom SP-network\"\"\"\n",
    "    def __init__(self, cryptoSequence: list, dataUnitSizeInBytes: int = 2, SBlocksAmount: int = 4, permutationAmount: int = 64):\n",
    "        \"\"\"Initialize new custom SP network\n",
    "\n",
    "        Args:\n",
    "            cryptoSequence (list): Sequence of application of the S- (False) or P-block (True): \n",
    "                [True, False, True, False] - that mean that word firsly go \n",
    "                into P-block, after - S-block a twice; and then into P-block again; \n",
    "                Modified key value will be returned as encoded key after going throgh blocks.\n",
    "            dataUnitSizeInBytes (int, optional): Max key size in bytes.\n",
    "            SBlocksAmount (int, optional): S-Block parts amount.\n",
    "            permutationAmount (int, optional): Permutation sequences amount.\n",
    "        \"\"\"\n",
    "        self.__dataUnitSizeInBytes__ = dataUnitSizeInBytes\n",
    "        self.__dataUnitSizeInBits__ = dataUnitSizeInBytes * 8\n",
    "        self.__SBlocksAmount__ = SBlocksAmount\n",
    "        self.__cryptoSequence__ = cryptoSequence\n",
    "        self.__dataSizeInBitsPerSBlockPart__ = int(dataUnitSizeInBytes * 8 / SBlocksAmount)\n",
    "        self.__permutationsAmount__ = permutationAmount\n",
    "        self.__permutations__ = [[] for i in range(permutationAmount)]\n",
    "        self.__SBlockDictionaty__ = {}\n",
    "        self.__SBlockReversedDictionaty__ = {}\n",
    "        self.__InitPermutations__()\n",
    "        self.__InitSubstritutions__()\n",
    "        \n",
    "\n",
    "    def __InitSubstritutions__(self):\n",
    "        rc = range(2 ** self.__dataSizeInBitsPerSBlockPart__)\n",
    "        first = list(rc)\n",
    "        second = list(rc)\n",
    "        shuffle(first)\n",
    "        shuffle(second)\n",
    "        for i in rc:\n",
    "            self.__SBlockDictionaty__[first[i]] = second[i]\n",
    "            self.__SBlockReversedDictionaty__[second[i]] = first[i]\n",
    "\n",
    "\n",
    "    def __InitPermutations__(self, repeatsAmount: int = 64):\n",
    "        for permutationNumber in range(self.__permutationsAmount__):\n",
    "            self.__permutations__[permutationNumber] = list(range(self.__dataUnitSizeInBits__))\n",
    "            for repeatNumber in range(repeatsAmount):\n",
    "                shuffle(self.__permutations__[permutationNumber])\n",
    "\n",
    "\n",
    "    def __PBlock__(self, wordCharBitsStr: str, permutationNumber: int, isReversed: bool = False) -> str:\n",
    "        permutation = self.__permutations__[permutationNumber]\n",
    "        buffer = list(wordCharBitsStr)\n",
    "        counter = 0\n",
    "        for index in permutation:\n",
    "            if isReversed:\n",
    "                buffer[index] = wordCharBitsStr[counter]\n",
    "            else:\n",
    "                buffer[counter] = wordCharBitsStr[index]\n",
    "            counter += 1\n",
    "        return ''.join(c for c in buffer)\n",
    "\n",
    "\n",
    "    def __SBlock__(self, wordCharPartBitsStr: str, isReversed: bool = False) -> str:\n",
    "        key = int(wordCharPartBitsStr, 2)\n",
    "        value = self.__SBlockDictionaty__[key]\n",
    "        res = self.__SBlockReversedDictionaty__[key] if isReversed else value\n",
    "        return f'{res:b}'.rjust(self.__dataSizeInBitsPerSBlockPart__, '0')\n",
    "\n",
    "\n",
    "    def Crypt(self, word: str, permutationNumber: int, isReversed: bool = False) -> str:\n",
    "        if (permutationNumber < 0 or permutationNumber >= self.__permutationsAmount__):\n",
    "            raise IndexError(permutationNumber)\n",
    "        \n",
    "        cryptoSequence = self.__cryptoSequence__\n",
    "\n",
    "        if isReversed:\n",
    "            cryptoSequence.reverse()\n",
    "\n",
    "        resChars = strToStrBits(word, self.__dataUnitSizeInBytes__, ' ').split(' ')\n",
    "        charsAmount = len(word)\n",
    "        for isPBlock in cryptoSequence:\n",
    "            if isPBlock:\n",
    "                for charIndex in range(charsAmount):\n",
    "                    resChars[charIndex] = self.__PBlock__(resChars[charIndex], permutationNumber, isReversed)\n",
    "            else:\n",
    "                for charIndex in range(charsAmount):\n",
    "                    buffer = \"\"\n",
    "                    for charPartIndex in range(self.__SBlocksAmount__):\n",
    "                        buffer += self.__SBlock__(\n",
    "                            resChars[charIndex][charPartIndex * self.__dataSizeInBitsPerSBlockPart__\n",
    "                                                : (charPartIndex + 1) * self.__dataSizeInBitsPerSBlockPart__],\n",
    "                            isReversed)\n",
    "                    resChars[charIndex] = buffer\n",
    "\n",
    "        return strBitsToStr(''.join(char for char in resChars), self.__dataUnitSizeInBytes__)"
   ]
  },
  {
   "cell_type": "markdown",
   "metadata": {},
   "source": [
    "## Tests"
   ]
  },
  {
   "cell_type": "code",
   "execution_count": 17,
   "metadata": {},
   "outputs": [],
   "source": [
    "spn = SPNetwork([False], permutationAmount=2)"
   ]
  },
  {
   "cell_type": "code",
   "execution_count": 18,
   "metadata": {},
   "outputs": [
    {
     "name": "stdout",
     "output_type": "stream",
     "text": [
      "Encoded: 衽蠧蠔蠝\n",
      "Decoded: Test\n",
      "True\n"
     ]
    }
   ],
   "source": [
    "permutNum = 1\n",
    "word = 'Test'\n",
    "encoded = spn.Crypt(word, permutNum)\n",
    "decoded = spn.Crypt(encoded, permutNum, True)\n",
    "print(f'Encoded: {encoded}')\n",
    "print(f'Decoded: {decoded}')\n",
    "print(decoded == word)"
   ]
  }
 ],
 "metadata": {
  "kernelspec": {
   "display_name": "Python 3",
   "language": "python",
   "name": "python3"
  },
  "language_info": {
   "codemirror_mode": {
    "name": "ipython",
    "version": 3
   },
   "file_extension": ".py",
   "mimetype": "text/x-python",
   "name": "python",
   "nbconvert_exporter": "python",
   "pygments_lexer": "ipython3",
   "version": "3.11.1"
  }
 },
 "nbformat": 4,
 "nbformat_minor": 2
}
