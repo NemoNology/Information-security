{
 "cells": [
  {
   "cell_type": "markdown",
   "metadata": {},
   "source": [
    "# Public-key cryptography"
   ]
  },
  {
   "cell_type": "markdown",
   "metadata": {},
   "source": [
    "## Init"
   ]
  },
  {
   "cell_type": "code",
   "execution_count": null,
   "metadata": {},
   "outputs": [],
   "source": [
    "import numpy as np"
   ]
  },
  {
   "cell_type": "code",
   "execution_count": null,
   "metadata": {},
   "outputs": [],
   "source": [
    "def isPrime(n: int) -> bool:\n",
    "    a = 2\n",
    "    while (a <= np.sqrt(n)):\n",
    "        if n % a < 1:\n",
    "            return False\n",
    "        a += 1\n",
    "    return n > 1\n",
    "\n",
    "\n",
    "def phi(n: int) -> set:\n",
    "    s = 0\n",
    "    for i in range(n):\n",
    "        if np.gcd(n, i) == 1:\n",
    "            s += 1\n",
    "    return s\n",
    "\n",
    "\n",
    "def GenKeys(p: int, q: int):\n",
    "    n = p * q\n",
    "    ef = phi(n)\n",
    "    e = ef\n",
    "    while (np.gcd(e, ef) != 1):\n",
    "        e = np.random.randint(11, 10**6)\n",
    "    d = 0\n",
    "    while ((d * e) % ef != 1):\n",
    "        d += 1\n",
    "    return ((n, e), (n, d))\n",
    "    \n",
    "\n",
    "def Crypt(m: int, n: int, key: int) -> int:\n",
    "    return m ** key % n\n"
   ]
  },
  {
   "cell_type": "markdown",
   "metadata": {},
   "source": [
    "## Implementation"
   ]
  },
  {
   "cell_type": "code",
   "execution_count": null,
   "metadata": {},
   "outputs": [],
   "source": [
    "primes = np.arange(0, 100)\n",
    "primes = primes[[isPrime(x) for x in primes]]"
   ]
  },
  {
   "cell_type": "code",
   "execution_count": null,
   "metadata": {},
   "outputs": [],
   "source": [
    "p, q = np.random.choice(primes), np.random.choice(primes)\n",
    "print(f'p: {p}; q: {q}')"
   ]
  },
  {
   "cell_type": "code",
   "execution_count": null,
   "metadata": {},
   "outputs": [],
   "source": [
    "pk, sk = GenKeys(p, q)\n",
    "n = pk[0]\n",
    "print(f'PKey: {pk}')\n",
    "print(f'SKey: {sk}')"
   ]
  },
  {
   "cell_type": "code",
   "execution_count": null,
   "metadata": {},
   "outputs": [],
   "source": [
    "m = 101\n",
    "encoded = Crypt(m, n, pk[1])\n",
    "decoded = Crypt(encoded, n, sk[1])\n",
    "print(f'm: {m}')\n",
    "print(f'Encoded: {encoded}')\n",
    "print(f'Decoded: {decoded}')"
   ]
  }
 ],
 "metadata": {
  "kernelspec": {
   "display_name": "Python 3",
   "language": "python",
   "name": "python3"
  },
  "language_info": {
   "codemirror_mode": {
    "name": "ipython",
    "version": 3
   },
   "file_extension": ".py",
   "mimetype": "text/x-python",
   "name": "python",
   "nbconvert_exporter": "python",
   "pygments_lexer": "ipython3",
   "version": "3.11.1"
  }
 },
 "nbformat": 4,
 "nbformat_minor": 2
}
