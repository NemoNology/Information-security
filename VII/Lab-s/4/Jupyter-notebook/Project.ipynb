{
 "cells": [
  {
   "cell_type": "markdown",
   "metadata": {},
   "source": [
    "# Thread crypt"
   ]
  },
  {
   "cell_type": "code",
   "execution_count": null,
   "metadata": {},
   "outputs": [],
   "source": [
    "import random as rnd"
   ]
  },
  {
   "cell_type": "code",
   "execution_count": null,
   "metadata": {},
   "outputs": [],
   "source": [
    "def PRNG(key: list) -> int:\n",
    "    j = 0\n",
    "    l = len(key)\n",
    "    for i in range(l):\n",
    "        j = (j + key[i]) % l\n",
    "        key[i], key[j] = key[j], key[i]\n",
    "\n",
    "    return key\n",
    "\n",
    "\n",
    "def GetGamma(key: list, wordSizeInBytes: int) -> int:\n",
    "    prn = list(key)#PRNG(key)\n",
    "    l = len(key)\n",
    "    gamma = [0] * l\n",
    "    i = j = 0\n",
    "    for k in range(wordSizeInBytes):\n",
    "        i = (i + 1) % l\n",
    "        j = (j + prn[i]) % l\n",
    "        prn[i], prn[j] = prn[j], prn[i]\n",
    "        gamma[k] = prn[(prn[i] + prn[j]) % l]\n",
    "    return gamma[0:wordSizeInBytes]\n",
    "\n",
    "def Crypt(word: str, key: list) -> str:\n",
    "    lw = len(word)\n",
    "    res = \"\"\n",
    "    gamma = GetGamma(key, lw)\n",
    "    for i in range(lw):\n",
    "        res += chr(ord(word[i]) ^ gamma[i])\n",
    "\n",
    "    return res"
   ]
  },
  {
   "cell_type": "code",
   "execution_count": null,
   "metadata": {},
   "outputs": [],
   "source": [
    "key = list(range(256)) \n",
    "rnd.shuffle(key)\n",
    "keyRandomed = PRNG(key)"
   ]
  },
  {
   "cell_type": "code",
   "execution_count": null,
   "metadata": {},
   "outputs": [],
   "source": [
    "word = \"Leous\"\n",
    "encoded = Crypt(word, keyRandomed)\n",
    "print(f'Encoded: {encoded}')\n",
    "print(f'Decoded: {Crypt(encoded, keyRandomed)}')\n"
   ]
  },
  {
   "cell_type": "code",
   "execution_count": null,
   "metadata": {},
   "outputs": [],
   "source": []
  }
 ],
 "metadata": {
  "kernelspec": {
   "display_name": "Python 3",
   "language": "python",
   "name": "python3"
  },
  "language_info": {
   "codemirror_mode": {
    "name": "ipython",
    "version": 3
   },
   "file_extension": ".py",
   "mimetype": "text/x-python",
   "name": "python",
   "nbconvert_exporter": "python",
   "pygments_lexer": "ipython3",
   "version": "3.11.1"
  }
 },
 "nbformat": 4,
 "nbformat_minor": 2
}
